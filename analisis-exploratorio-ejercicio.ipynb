{
 "cells": [
  {
   "cell_type": "markdown",
   "id": "4d6df4bf-4da2-40f3-8ed6-4876b1106124",
   "metadata": {},
   "source": [
    "# Análisis exploratorio - Ejercicio\n",
    "\n",
    "La presente libreta sirve como ejercicio para la práctida del diseño y ejecución de diferentes técnicas de análisis exploratorio de datos. Para ello se va a considerar un conjunto de datos asociado al precio de los inmuebles en Madrid disponibles en la plataforma Idealista. Se va a suponer que el objetivo final del proyecto es estimar el precio de nuevas viviendas."
   ]
  },
  {
   "cell_type": "markdown",
   "id": "b2f9f1fa-4ad7-467a-be37-ea1b1b558217",
   "metadata": {
    "tags": []
   },
   "source": [
    "\n",
    "En primer lugar, es necesario importar las librerías necesarias para realizar el análisis exploratorio. "
   ]
  },
  {
   "cell_type": "code",
   "execution_count": 1,
   "id": "1f8d18bb-9c98-41a2-8ffe-611e2191c3f7",
   "metadata": {},
   "outputs": [],
   "source": [
    "import numpy as np\n",
    "import pandas as pd\n",
    "\n",
    "from scipy.stats import shapiro, kstest\n",
    "from sklearn.preprocessing import OneHotEncoder\n",
    "from sklearn.decomposition import PCA\n",
    "\n",
    "import matplotlib.pyplot as plt\n",
    "import seaborn as sns\n",
    "import plotly.express as px\n",
    "import plotly as plotly\n",
    "import plotly.graph_objects as go\n",
    "import plotly.figure_factory as ff"
   ]
  },
  {
   "cell_type": "markdown",
   "id": "529d59e3-3ea7-4e47-97b9-1a2e8a753824",
   "metadata": {
    "tags": []
   },
   "source": [
    "1. Indique qué librerías de las indicadas se utilizan para la visualización de los datos."
   ]
  },
  {
   "cell_type": "markdown",
   "id": "b224f11a-079d-489a-9fe3-658a8e7a3dfb",
   "metadata": {
    "tags": []
   },
   "source": []
  },
  {
   "cell_type": "markdown",
   "id": "f54d5aa8-0869-4972-bb6f-c5ea303bb08b",
   "metadata": {
    "tags": []
   },
   "source": [
    "2. Cargue el conjunto de datos \"idealista.csv\" disponible en la carpeta \"data\", muestra las columnas disponibles y 10 filas del mismo y comparte las primeras conclusiones que puedes extraer del mismo. "
   ]
  },
  {
   "cell_type": "code",
   "execution_count": null,
   "id": "0a1acf3f-dc02-4a0f-8659-99a77ba7c02a",
   "metadata": {},
   "outputs": [],
   "source": []
  },
  {
   "cell_type": "markdown",
   "id": "68fbc2a9-693d-413d-ac18-8172812724ba",
   "metadata": {
    "tags": []
   },
   "source": []
  },
  {
   "cell_type": "markdown",
   "id": "0771117c-30e2-4a5f-8ce0-7f683c67411d",
   "metadata": {
    "tags": []
   },
   "source": [
    "3. Calcule las medidas de dispersión del conjunto de datos disponible y extraiga las conclusiones asociadas"
   ]
  },
  {
   "cell_type": "code",
   "execution_count": null,
   "id": "83f30c21-9bf7-46d0-8009-8232415991d7",
   "metadata": {},
   "outputs": [],
   "source": []
  },
  {
   "cell_type": "markdown",
   "id": "860cdc88-ebc2-40f1-b0e1-e8e5dbc450ff",
   "metadata": {
    "jp-MarkdownHeadingCollapsed": true,
    "tags": []
   },
   "source": []
  },
  {
   "cell_type": "code",
   "execution_count": null,
   "id": "86485ddf-b028-4543-8b74-827e0ad28128",
   "metadata": {},
   "outputs": [],
   "source": []
  },
  {
   "cell_type": "markdown",
   "id": "4e72d170-0eea-4dd0-bbb6-18ef3d280a3c",
   "metadata": {
    "jp-MarkdownHeadingCollapsed": true,
    "tags": []
   },
   "source": []
  },
  {
   "cell_type": "markdown",
   "id": "5a47f871-6efa-4d4d-95e4-3b39f3b9eecc",
   "metadata": {
    "jp-MarkdownHeadingCollapsed": true,
    "tags": []
   },
   "source": [
    "4. Filtre las variables de interés en el dataset para continuar el proceso y muestre las primeras 10 filas del conjunto de datos filtrado. Sustituye los valores faltantes en las columnas \"floor\" y \"hasLift\" por 0 o False según corresponda."
   ]
  },
  {
   "cell_type": "code",
   "execution_count": null,
   "id": "e4d91e77-08d3-41ab-9512-5b15112af4ed",
   "metadata": {},
   "outputs": [],
   "source": []
  },
  {
   "cell_type": "markdown",
   "id": "945a84c4-e3a0-4e69-a3f6-1cc1202b3d42",
   "metadata": {
    "tags": []
   },
   "source": [
    "5. ¿Existe alguna de las variables continuas que presente una distribución normal? Justifique la respuesta."
   ]
  },
  {
   "cell_type": "code",
   "execution_count": null,
   "id": "b0f41ace-5f2a-45b9-b8e1-03110002401c",
   "metadata": {},
   "outputs": [],
   "source": []
  },
  {
   "cell_type": "markdown",
   "id": "90ad28b1-8f1b-4628-b33b-c0a84d31a989",
   "metadata": {},
   "source": []
  },
  {
   "cell_type": "markdown",
   "id": "f01c5953-4a2d-4e17-abce-c352aa1a16ae",
   "metadata": {
    "jp-MarkdownHeadingCollapsed": true,
    "tags": []
   },
   "source": [
    "6. Estudia la distribución de las clases para las variables discretas. ¿Qué conclusiones podemos obtener?"
   ]
  },
  {
   "cell_type": "code",
   "execution_count": null,
   "id": "3a354aa3-c652-4b22-9654-569f197c5f52",
   "metadata": {},
   "outputs": [],
   "source": []
  },
  {
   "cell_type": "markdown",
   "id": "05cf2da9-3b25-438f-9452-36cd7cf913db",
   "metadata": {},
   "source": []
  },
  {
   "cell_type": "markdown",
   "id": "44b413dd-25be-47dd-ad15-f63d9043d5bf",
   "metadata": {
    "tags": []
   },
   "source": [
    "7. A partir de las conclusiones extraidas, transforme las variables discretas a numéricas y filtre el conjunto de datos."
   ]
  },
  {
   "cell_type": "code",
   "execution_count": null,
   "id": "7e3801c6-e0d6-4647-9325-901d79a288e9",
   "metadata": {
    "tags": []
   },
   "outputs": [],
   "source": []
  },
  {
   "cell_type": "code",
   "execution_count": null,
   "id": "1d0a5790-47b3-434f-815e-0d3067ca49c6",
   "metadata": {
    "tags": []
   },
   "outputs": [],
   "source": []
  },
  {
   "cell_type": "code",
   "execution_count": null,
   "id": "cbb5a8b3-934d-4324-98dc-5a493d96c32b",
   "metadata": {
    "tags": []
   },
   "outputs": [],
   "source": []
  },
  {
   "cell_type": "code",
   "execution_count": null,
   "id": "d2938105-2fde-45b9-a6c4-40e62f556ddc",
   "metadata": {
    "tags": []
   },
   "outputs": [],
   "source": []
  },
  {
   "cell_type": "markdown",
   "id": "441c5605-1b08-4b6c-b362-a5a115ef1138",
   "metadata": {
    "tags": []
   },
   "source": [
    "8. ¿Existe algún punto candidato a ser anómalo en alguna de las variables continuas? Justifique la respuesta."
   ]
  },
  {
   "cell_type": "code",
   "execution_count": null,
   "id": "1860958d-4ac4-4ce5-b060-67edbc81ccf6",
   "metadata": {},
   "outputs": [],
   "source": []
  },
  {
   "cell_type": "markdown",
   "id": "f818b087-cc99-4ed8-89fd-9c9762284c83",
   "metadata": {
    "tags": []
   },
   "source": []
  },
  {
   "cell_type": "markdown",
   "id": "c6a3f3af-886c-4562-b114-7429752732f4",
   "metadata": {
    "tags": []
   },
   "source": [
    "9. Diseñe un gráfico pareado y analice la posible existencia de variables relacionadas. Utilice la variable \"priceByArea\" para referenciar el color."
   ]
  },
  {
   "cell_type": "code",
   "execution_count": null,
   "id": "2b23c5b1-36c0-4143-99eb-41f2c5f0b0fc",
   "metadata": {
    "tags": []
   },
   "outputs": [],
   "source": []
  },
  {
   "cell_type": "markdown",
   "id": "81adbde0-2636-49de-8eaa-8921e000a4e3",
   "metadata": {
    "tags": []
   },
   "source": []
  },
  {
   "cell_type": "markdown",
   "id": "e970bee5-1a64-44dc-ba5f-df22b4b1a141",
   "metadata": {
    "tags": []
   },
   "source": [
    "10. Calcule las correlaciones y represente el gráfico de correlaciones. ¿Qué conclusiones se pueden sacar?"
   ]
  },
  {
   "cell_type": "code",
   "execution_count": null,
   "id": "c01b746f-5f6a-4b1f-8998-9b525255f964",
   "metadata": {
    "tags": []
   },
   "outputs": [],
   "source": []
  },
  {
   "cell_type": "code",
   "execution_count": null,
   "id": "1bb510ba-7f10-4b8c-bce6-512e9b5f6478",
   "metadata": {
    "tags": []
   },
   "outputs": [],
   "source": []
  },
  {
   "cell_type": "markdown",
   "id": "8c5223d7-7aac-4e9d-9d14-5237882d459c",
   "metadata": {
    "tags": []
   },
   "source": []
  },
  {
   "cell_type": "markdown",
   "id": "36b2090d-e480-40eb-8da8-4658aea8f342",
   "metadata": {
    "tags": []
   },
   "source": [
    "11. Detalle las conclusiones finales del ejercicio."
   ]
  },
  {
   "cell_type": "code",
   "execution_count": null,
   "id": "bf1c2126-ede5-4202-8e31-149e8fb9b69e",
   "metadata": {
    "tags": []
   },
   "outputs": [],
   "source": []
  },
  {
   "cell_type": "markdown",
   "id": "155df59e-34d7-46b9-9b8d-5b3c8869fdef",
   "metadata": {},
   "source": []
  }
 ],
 "metadata": {
  "kernelspec": {
   "display_name": "Python [conda env:goodjob] *",
   "language": "python",
   "name": "conda-env-goodjob-py"
  },
  "language_info": {
   "codemirror_mode": {
    "name": "ipython",
    "version": 3
   },
   "file_extension": ".py",
   "mimetype": "text/x-python",
   "name": "python",
   "nbconvert_exporter": "python",
   "pygments_lexer": "ipython3",
   "version": "3.8.13"
  }
 },
 "nbformat": 4,
 "nbformat_minor": 5
}
